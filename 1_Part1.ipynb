{
  "nbformat": 4,
  "nbformat_minor": 0,
  "metadata": {
    "colab": {
      "provenance": [],
      "toc_visible": true
    },
    "kernelspec": {
      "name": "python3",
      "display_name": "Python 3"
    },
    "language_info": {
      "name": "python"
    }
  },
  "cells": [
    {
      "cell_type": "markdown",
      "source": [
        "--------------------------Part 1-------------------------"
      ],
      "metadata": {
        "id": "66UAowCqLA_s"
      }
    },
    {
      "cell_type": "markdown",
      "source": [
        "# #Importing Library"
      ],
      "metadata": {
        "id": "v4NMmTbdK2F4"
      }
    },
    {
      "cell_type": "code",
      "execution_count": null,
      "metadata": {
        "id": "bp5FX9DhKk41"
      },
      "outputs": [],
      "source": [
        "import pandas as pd"
      ]
    },
    {
      "cell_type": "markdown",
      "source": [
        "Here pd is and object. next time i will use this pd"
      ],
      "metadata": {
        "id": "wdecCKCOLRRU"
      }
    },
    {
      "cell_type": "code",
      "source": [
        "pd.__version__"
      ],
      "metadata": {
        "colab": {
          "base_uri": "https://localhost:8080/",
          "height": 35
        },
        "id": "OljTqRBvLLLq",
        "outputId": "6c1a2fba-f532-4c86-ff16-e4df9637fe4e"
      },
      "execution_count": null,
      "outputs": [
        {
          "output_type": "execute_result",
          "data": {
            "text/plain": [
              "'2.2.2'"
            ],
            "application/vnd.google.colaboratory.intrinsic+json": {
              "type": "string"
            }
          },
          "metadata": {},
          "execution_count": 2
        }
      ]
    },
    {
      "cell_type": "markdown",
      "source": [
        "Checking the version"
      ],
      "metadata": {
        "id": "E-kB0pyeLizs"
      }
    },
    {
      "cell_type": "markdown",
      "source": [
        "# #Pandas Series With python lists"
      ],
      "metadata": {
        "id": "CNpXpVJjLyjH"
      }
    },
    {
      "cell_type": "code",
      "source": [
        "lst=[1,2,3,4,5,6]\n",
        "print(lst)"
      ],
      "metadata": {
        "colab": {
          "base_uri": "https://localhost:8080/"
        },
        "id": "wbJyW3xuLfWD",
        "outputId": "0cfd6346-bb5c-4c58-973b-4a2979823fc3"
      },
      "execution_count": null,
      "outputs": [
        {
          "output_type": "stream",
          "name": "stdout",
          "text": [
            "[1, 2, 3, 4, 5, 6]\n"
          ]
        }
      ]
    },
    {
      "cell_type": "markdown",
      "source": [
        "Creating a series with pd fromt this list:"
      ],
      "metadata": {
        "id": "vTKIpaYYMFZD"
      }
    },
    {
      "cell_type": "markdown",
      "source": [
        "It has been converted into a column with indices"
      ],
      "metadata": {
        "id": "M1aYw_gDMgkc"
      }
    },
    {
      "cell_type": "code",
      "source": [
        "series = pd.Series(lst)\n",
        "print(series)\n",
        "print(type(series))"
      ],
      "metadata": {
        "colab": {
          "base_uri": "https://localhost:8080/"
        },
        "id": "PmcNJQCNL_w_",
        "outputId": "606cf42a-0757-4d23-89ea-9f9979ddce84"
      },
      "execution_count": null,
      "outputs": [
        {
          "output_type": "stream",
          "name": "stdout",
          "text": [
            "0    1\n",
            "1    2\n",
            "2    3\n",
            "3    4\n",
            "4    5\n",
            "5    6\n",
            "dtype: int64\n",
            "<class 'pandas.core.series.Series'>\n"
          ]
        }
      ]
    },
    {
      "cell_type": "code",
      "source": [
        "#empty series -> just provide an empty list\n",
        "#By default it is float 64\n",
        "empty = pd.Series([])\n",
        "print(empty)"
      ],
      "metadata": {
        "colab": {
          "base_uri": "https://localhost:8080/"
        },
        "id": "9tignoTMMPN4",
        "outputId": "b85c8264-0cfe-496d-b421-c3230c654300"
      },
      "execution_count": null,
      "outputs": [
        {
          "output_type": "stream",
          "name": "stdout",
          "text": [
            "Series([], dtype: object)\n"
          ]
        }
      ]
    },
    {
      "cell_type": "markdown",
      "source": [
        "I want my own indices"
      ],
      "metadata": {
        "id": "ZqVM4BgdNHhs"
      }
    },
    {
      "cell_type": "code",
      "source": [
        "a = pd.Series(['p','q','r','s','t'],index = [10,11,12,13,14])\n",
        "\n",
        "print(a)"
      ],
      "metadata": {
        "colab": {
          "base_uri": "https://localhost:8080/"
        },
        "id": "KxPhi1JHMu3-",
        "outputId": "4582cacf-0ecc-4b7c-d2f2-b6fe6d84e3f0"
      },
      "execution_count": null,
      "outputs": [
        {
          "output_type": "stream",
          "name": "stdout",
          "text": [
            "10    p\n",
            "11    q\n",
            "12    r\n",
            "13    s\n",
            "14    t\n",
            "dtype: object\n"
          ]
        }
      ]
    },
    {
      "cell_type": "markdown",
      "source": [
        "I want to give name of my Series:"
      ],
      "metadata": {
        "id": "phSGymJzNtnj"
      }
    },
    {
      "cell_type": "code",
      "source": [
        "b = pd.Series(['p','q','r','s','t'],index = [10,11,12,13,14], name = 'alphabets')\n",
        "print(b)"
      ],
      "metadata": {
        "colab": {
          "base_uri": "https://localhost:8080/"
        },
        "id": "z1_jjfmuNaZ2",
        "outputId": "729d17a3-7031-47f4-f4e2-f6b9c7287d3d"
      },
      "execution_count": null,
      "outputs": [
        {
          "output_type": "stream",
          "name": "stdout",
          "text": [
            "10    p\n",
            "11    q\n",
            "12    r\n",
            "13    s\n",
            "14    t\n",
            "Name: alphabets, dtype: object\n"
          ]
        }
      ]
    },
    {
      "cell_type": "markdown",
      "source": [
        "Creating Sereis with scaler values"
      ],
      "metadata": {
        "id": "JKpDsEH-OLBK"
      }
    },
    {
      "cell_type": "code",
      "source": [
        "scaler_series = pd.Series(0.5)\n",
        "print(scaler_series)"
      ],
      "metadata": {
        "colab": {
          "base_uri": "https://localhost:8080/"
        },
        "id": "J09L8CKfN8l6",
        "outputId": "7526bd1c-a6c8-4be0-e9ce-64acfd8af068"
      },
      "execution_count": null,
      "outputs": [
        {
          "output_type": "stream",
          "name": "stdout",
          "text": [
            "0    0.5\n",
            "dtype: float64\n"
          ]
        }
      ]
    },
    {
      "cell_type": "markdown",
      "source": [
        "I can increase the Quantity of scalar values . Just provide the index list"
      ],
      "metadata": {
        "id": "R_OtozKSOiiC"
      }
    },
    {
      "cell_type": "code",
      "source": [
        "scaler_series = pd.Series(0.5 , index = [1,2,3])\n",
        "print(scaler_series)"
      ],
      "metadata": {
        "colab": {
          "base_uri": "https://localhost:8080/"
        },
        "id": "fV_baniqOhOD",
        "outputId": "2ca35eb2-8cd9-4c03-e562-830df9e864de"
      },
      "execution_count": null,
      "outputs": [
        {
          "output_type": "stream",
          "name": "stdout",
          "text": [
            "1    0.5\n",
            "2    0.5\n",
            "3    0.5\n",
            "dtype: float64\n"
          ]
        }
      ]
    },
    {
      "cell_type": "markdown",
      "source": [
        "#  #Pandas Series with Python Dictionary"
      ],
      "metadata": {
        "id": "4kkSdjCnPBnu"
      }
    },
    {
      "cell_type": "markdown",
      "source": [
        "here the keys will be the index and the vlaues will be element of column"
      ],
      "metadata": {
        "id": "hFH164mOPxQ0"
      }
    },
    {
      "cell_type": "code",
      "source": [
        "dict_series = pd.Series( {'p':1,'q':2,'r':3,'s':4,'t':5})\n",
        "print(dict_series)"
      ],
      "metadata": {
        "colab": {
          "base_uri": "https://localhost:8080/"
        },
        "id": "PcjQMAA-Oya7",
        "outputId": "7ca66421-c73e-42ff-bce8-6a57b4880d77"
      },
      "execution_count": null,
      "outputs": [
        {
          "output_type": "stream",
          "name": "stdout",
          "text": [
            "p    1\n",
            "q    2\n",
            "r    3\n",
            "s    4\n",
            "t    5\n",
            "dtype: int64\n"
          ]
        }
      ]
    },
    {
      "cell_type": "markdown",
      "source": [
        "printing the value at positin 0"
      ],
      "metadata": {
        "id": "oPIVXqQWTwLl"
      }
    },
    {
      "cell_type": "code",
      "source": [
        "print(dict_series[0])"
      ],
      "metadata": {
        "id": "KeFouZnfPqF2",
        "colab": {
          "base_uri": "https://localhost:8080/"
        },
        "outputId": "2b599958-8f31-401c-a70b-b62c83ed6554"
      },
      "execution_count": 19,
      "outputs": [
        {
          "output_type": "stream",
          "name": "stdout",
          "text": [
            "1\n"
          ]
        },
        {
          "output_type": "stream",
          "name": "stderr",
          "text": [
            "/tmp/ipython-input-1564464665.py:1: FutureWarning: Series.__getitem__ treating keys as positions is deprecated. In a future version, integer keys will always be treated as labels (consistent with DataFrame behavior). To access a value by position, use `ser.iloc[pos]`\n",
            "  print(dict_series[0])\n"
          ]
        }
      ]
    },
    {
      "cell_type": "markdown",
      "source": [
        "printing first 3 ( zero to two)"
      ],
      "metadata": {
        "id": "dlqpjb8BTyn2"
      }
    },
    {
      "cell_type": "code",
      "source": [
        "print(dict_series[0:3])"
      ],
      "metadata": {
        "colab": {
          "base_uri": "https://localhost:8080/"
        },
        "id": "3IkIDPo2Tf_s",
        "outputId": "ab070fa6-5111-44a9-9e46-dcac6c4d9a78"
      },
      "execution_count": 21,
      "outputs": [
        {
          "output_type": "stream",
          "name": "stdout",
          "text": [
            "p    1\n",
            "q    2\n",
            "r    3\n",
            "dtype: int64\n"
          ]
        }
      ]
    },
    {
      "cell_type": "code",
      "source": [
        "print(max(dict_series))"
      ],
      "metadata": {
        "colab": {
          "base_uri": "https://localhost:8080/"
        },
        "id": "6rjUw9tnT_cJ",
        "outputId": "40703e85-5961-4d14-928c-b81735523150"
      },
      "execution_count": 22,
      "outputs": [
        {
          "output_type": "stream",
          "name": "stdout",
          "text": [
            "5\n"
          ]
        }
      ]
    },
    {
      "cell_type": "markdown",
      "source": [
        "Combining dictionary and list\n",
        "The list values can also be considered as column values"
      ],
      "metadata": {
        "id": "GaRrNWxmUQCc"
      }
    },
    {
      "cell_type": "code",
      "source": [
        "dict_series = pd.Series( {'p':[1,5,6],'q':[2,6,7],'r':[3,9,0],'s':[4,4,5],'t':[5,1,2]})\n",
        "print(dict_series)"
      ],
      "metadata": {
        "colab": {
          "base_uri": "https://localhost:8080/"
        },
        "id": "QgdNfBLQUI1u",
        "outputId": "68127daf-fa90-43cf-bc68-51d23ecbb4c3"
      },
      "execution_count": 23,
      "outputs": [
        {
          "output_type": "stream",
          "name": "stdout",
          "text": [
            "p    [1, 5, 6]\n",
            "q    [2, 6, 7]\n",
            "r    [3, 9, 0]\n",
            "s    [4, 4, 5]\n",
            "t    [5, 1, 2]\n",
            "dtype: object\n"
          ]
        }
      ]
    },
    {
      "cell_type": "code",
      "source": [],
      "metadata": {
        "id": "Thd7AY7HUnUb"
      },
      "execution_count": null,
      "outputs": []
    }
  ]
}